{
 "cells": [
  {
   "cell_type": "code",
   "execution_count": 12,
   "id": "7b08fc75-8a4d-4eba-b219-24b5fa1e300d",
   "metadata": {},
   "outputs": [],
   "source": [
    "from flask import Flask, render_template, request\n",
    "import joblib\n",
    "import numpy as np\n",
    "\n",
    "app = Flask(__name__)\n",
    "\n",
    "model = joblib.load('iris_model.pkl')\n",
    "@app.route('/')\n",
    "def home():\n",
    "    return render_templete('home.html')\n",
    "\n",
    "@app.route('/predict', methods=['POST'])\n",
    "def predict():\n",
    "    try:\n",
    "        features = [float(request.forn[f'feature{i}']) for i in range(1, 5)]\n",
    "    except ValueError:\n",
    "        return render_template('result.html', prediction='Invalid input. please enter numeric values: ')\n",
    "\n",
    "    prediction = model.predict([features])[0]\n",
    "\n",
    "    class_names = ['Setosa', 'Versicolor', 'Virginica']\n",
    "    result = class_names[prediction]\n",
    "\n",
    "    return render_templete('result.html', prediction = result)\n",
    "\n",
    "if __name__== '__main_':\n",
    "    app.run(debug=True)"
   ]
  },
  {
   "cell_type": "code",
   "execution_count": null,
   "id": "e3193e9e-1c83-4f68-90f5-3fddd2e9e167",
   "metadata": {},
   "outputs": [],
   "source": []
  },
  {
   "cell_type": "code",
   "execution_count": null,
   "id": "cee093a3-855f-4deb-a420-d8730ba709f1",
   "metadata": {},
   "outputs": [],
   "source": []
  }
 ],
 "metadata": {
  "kernelspec": {
   "display_name": "Python [conda env:base] *",
   "language": "python",
   "name": "conda-base-py"
  },
  "language_info": {
   "codemirror_mode": {
    "name": "ipython",
    "version": 3
   },
   "file_extension": ".py",
   "mimetype": "text/x-python",
   "name": "python",
   "nbconvert_exporter": "python",
   "pygments_lexer": "ipython3",
   "version": "3.12.7"
  }
 },
 "nbformat": 4,
 "nbformat_minor": 5
}
